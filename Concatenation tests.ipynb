{
 "cells": [
  {
   "cell_type": "code",
   "execution_count": 232,
   "metadata": {},
   "outputs": [],
   "source": [
    "import math\n",
    "import numpy\n",
    "import torch\n",
    "import torch.nn as nn\n",
    "import torchaudio\n",
    "torchaudio.set_audio_backend(\"soundfile\")\n",
    "import matplotlib.pyplot as plt"
   ]
  },
  {
   "cell_type": "code",
   "execution_count": 233,
   "metadata": {},
   "outputs": [],
   "source": [
    "class AudioSample:\n",
    "    def __init__(self, filepath):\n",
    "        loadedData = torchaudio.load(filepath)\n",
    "        self.waveform = loadedData[0][0]\n",
    "        self.sampleRate = loadedData[1]\n",
    "        del loadedData\n",
    "        self.pitchDeltas = torch.tensor([], dtype = int)\n",
    "        self.pitchBorders = torch.tensor([], dtype = int)\n",
    "        self.Pitch = torch.tensor([0], dtype = int)\n",
    "        self.spectra = torch.tensor([[]], dtype = float)\n",
    "        self.spectrum = torch.tensor([], dtype = float)\n",
    "        self.excitation = torch.tensor([], dtype = float) #replace with periodic and aperiodic excitation once implemented\n",
    "    def CalculatePitch(self, expectedPitch, searchRange = 0.2):\n",
    "        batchSize = math.floor((1. + searchRange) * self.sampleRate / expectedPitch)\n",
    "        lowerSearchLimit = math.floor((1. - searchRange) * self.sampleRate / expectedPitch)\n",
    "        batchStart = 0\n",
    "        while batchStart + batchSize <= self.waveform.size()[0] - batchSize:\n",
    "            sample = torch.index_select(self.waveform, 0, torch.linspace(batchStart, batchStart + batchSize, batchSize, dtype = int))\n",
    "            zeroTransitions = torch.tensor([], dtype = int)\n",
    "            for i in range(lowerSearchLimit, batchSize):\n",
    "                if (sample[i-1] < 0) and (sample[i] > 0):\n",
    "                    zeroTransitions = torch.cat([zeroTransitions, torch.tensor([i])], 0)\n",
    "            error = math.inf\n",
    "            delta = math.floor(self.sampleRate / expectedPitch)\n",
    "            for i in zeroTransitions:\n",
    "                shiftedSample = torch.index_select(self.waveform, 0, torch.linspace(batchStart + i.item(), batchStart + batchSize + i.item(), batchSize, dtype = int))\n",
    "                newError = torch.sum(torch.pow(sample - shiftedSample, 2))\n",
    "                if error > newError:\n",
    "                    delta = i.item()\n",
    "                    error = newError\n",
    "            self.pitchDeltas = torch.cat([self.pitchDeltas, torch.tensor([delta])])\n",
    "            batchStart += delta\n",
    "        nBatches = self.pitchDeltas.size()[0]\n",
    "        self.pitchBorders = torch.zeros(nBatches + 1, dtype = int)\n",
    "        for i in range(nBatches):\n",
    "            self.pitchBorders[i+1] = self.pitchBorders[i] + self.pitchDeltas[i]\n",
    "        self.Pitch = torch.mean(self.pitchDeltas.float()).int()\n",
    "        del batchSize\n",
    "        del lowerSearchLimit\n",
    "        del batchStart\n",
    "        del sample\n",
    "        del zeroTransitions\n",
    "        del error\n",
    "        del delta\n",
    "        del shiftedSample\n",
    "        del newError\n",
    "        del nBatches\n",
    "    def CalculateSpectra(self, iterations = 10, filterWidth = 20):\n",
    "        Window = torch.hann_window(self.Pitch * 3)\n",
    "        signals = torch.stft(self.waveform, self.Pitch * 3, hop_length = self.Pitch, win_length = self.Pitch * 3, window = Window, return_complex = True)\n",
    "        signals = torch.transpose(signals, 0, 1)\n",
    "        workingSpectra = signals.abs()\n",
    "        self.spectra = torch.full_like(workingSpectra, -float(\"inf\"), dtype=torch.float)\n",
    "        for i in range(iterations):\n",
    "            workingSpectra = torch.max(workingSpectra, self.spectra)\n",
    "            self.spectra = workingSpectra\n",
    "            for i in range(filterWidth):\n",
    "                self.spectra = torch.roll(workingSpectra, -i, dims = 1) + self.spectra + torch.roll(workingSpectra, i, dims = 1)\n",
    "            self.spectra = self.spectra / (2 * filterWidth + 1)\n",
    "        self.spectrum = torch.mean(self.spectra, 0)\n",
    "        for i in range(self.spectra.size()[0]):\n",
    "            self.spectra[i] = self.spectra[i] - self.spectrum\n",
    "        del Window\n",
    "        del signals\n",
    "        del workingSpectra\n",
    "    def CalculateExcitation(self):\n",
    "        Window = torch.hann_window(self.Pitch * 3)\n",
    "        signals = torch.stft(self.waveform, self.Pitch * 3, hop_length = self.Pitch, win_length = self.Pitch * 3, window = Window, return_complex = True)\n",
    "        signals = torch.transpose(signals, 0, 1)\n",
    "        excitations = torch.empty_like(signals)\n",
    "        for i in range(excitations.size()[0]):\n",
    "            excitations[i] = signals[i] / (self.spectrum + self.spectra[i])\n",
    "        excitations = torch.transpose(excitations, 0, 1)\n",
    "        self.excitation = torch.istft(excitations, self.Pitch * 3, hop_length = self.Pitch, win_length = self.Pitch * 3, window = Window, onesided = True)\n",
    "        del Window\n",
    "        del signals\n",
    "        del excitations"
   ]
  },
  {
   "cell_type": "code",
   "execution_count": 234,
   "metadata": {},
   "outputs": [],
   "source": [
    "class Synthesizer:\n",
    "    def __init__(self, Excitation, Spectrum, Spectra, SampleRate):\n",
    "        self.excitation = Excitation\n",
    "        self.spectrum = Spectrum\n",
    "        self.spectra = Spectra\n",
    "        self.sampleRate = SampleRate\n",
    "        self.returnSignal = torch.tensor([], dtype = float)\n",
    "    def Synthesize(self, pitch, steadiness):\n",
    "        Window = torch.hann_window(pitch * 3)\n",
    "        self.returnSignal = torch.stft(self.excitation, pitch * 3, hop_length = pitch, win_length = pitch * 3, window = Window, return_complex = True)\n",
    "        self.returnSignal = torch.transpose(self.returnSignal, 0, 1)\n",
    "        for i in range(self.spectra.size()[0]):\n",
    "            self.returnSignal[i] = self.returnSignal[i] * (self.spectrum + math.pow(1 - steadiness, 2) * torch.roll(self.spectra, 0, dims=0)[i])\n",
    "        self.returnSignal = torch.transpose(self.returnSignal, 0, 1)\n",
    "        self.returnSignal = torch.istft(self.returnSignal, pitch * 3, hop_length = pitch, win_length = pitch * 3, window = Window, onesided=True, )\n",
    "        del Window\n",
    "    def save(self, filepath):\n",
    "        torchaudio.save(filepath, torch.unsqueeze(self.returnSignal, 0), self.sampleRate, format=\"wav\", encoding=\"PCM_S\", bits_per_sample=32)"
   ]
  },
  {
   "cell_type": "code",
   "execution_count": 235,
   "metadata": {},
   "outputs": [],
   "source": [
    "class SpecCrfAi(nn.Module):\n",
    "    def __init__(self, inputsize, learningRate=5e-3):\n",
    "        super(SpecCrfAi, self).__init__()\n",
    "        \n",
    "        self.layer1 = torch.nn.Conv2d(1, 1, (11, 2), padding = (5, 0), bias = False)\n",
    "        self.ReLu1 = nn.ReLU(True)\n",
    "        self.layer2 = torch.nn.Conv2d(1, 1, (11, 1), padding = (5, 0), bias = False)\n",
    "        self.ReLu2 = nn.ReLU(True)\n",
    "        self.layer3 = torch.nn.Conv2d(1, 1, (11, 1), padding = (5, 0), bias = False)\n",
    "        self.ReLu3 = nn.ReLU(True)\n",
    "        self.layer4 = torch.nn.Conv2d(1, 1, (11, 1), padding = (5, 0), bias = True)\n",
    "        \n",
    "        self.learningRate = learningRate\n",
    "        self.optimizer = torch.optim.Adagrad(self.parameters(), lr=self.learningRate, weight_decay=0.)\n",
    "        self.criterion = nn.L1Loss()\n",
    "        \n",
    "    def forward(self, spectrum1, spectrum2, factor):\n",
    "        x = torch.cat((spectrum1.unsqueeze(1) * (1. - factor), spectrum2.unsqueeze(1) * factor), dim = 1)\n",
    "        x = x.float().unsqueeze(0).unsqueeze(0)\n",
    "        x = self.layer1(x)\n",
    "        #x = self.ReLu1(x)\n",
    "        x = self.layer2(x)\n",
    "        #x = self.ReLu2(x)\n",
    "        x = self.layer3(x)\n",
    "        #x = self.ReLu3(x)\n",
    "        x = self.layer4(x)\n",
    "        return x\n",
    "    \n",
    "    def processData(self, spectrum1, spectrum2, factor):\n",
    "        spectrum1 = torch.log(spectrum1)\n",
    "        spectrum2 = torch.log(spectrum2)\n",
    "        output = torch.squeeze(self(spectrum1, spectrum2, factor))\n",
    "        output = torch.exp(output)\n",
    "        return output\n",
    "    \n",
    "    def train(self, indata, epochs=1):\n",
    "        for epoch in range(epochs):\n",
    "            for data in self.dataLoader(indata):\n",
    "                spectrum1 = data[0]\n",
    "                spectrum2 = data[-1]\n",
    "                spectrum1 = torch.log(spectrum1)\n",
    "                spectrum2 = torch.log(spectrum2)\n",
    "                indexList = numpy.arange(0, data.size()[0], 1)\n",
    "                numpy.random.shuffle(indexList)\n",
    "                for i in indexList:\n",
    "                    factor = i / float(data.size()[0])\n",
    "                    spectrumTarget = data[i]\n",
    "                    spectrumTarget = torch.log(spectrumTarget)\n",
    "                    output = torch.squeeze(self(spectrum1, spectrum2, factor))\n",
    "                    loss = self.criterion(output, spectrumTarget)\n",
    "                    self.optimizer.zero_grad()\n",
    "                    loss.backward()\n",
    "                    self.optimizer.step()\n",
    "\n",
    "            print('epoch [{}/{}], loss:{:.4f}'\n",
    "                  .format(epoch + 1, epochs, loss.data))\n",
    "            \n",
    "    def dataLoader(self, data):\n",
    "        return torch.utils.data.DataLoader(dataset=data, shuffle=True)"
   ]
  },
  {
   "cell_type": "code",
   "execution_count": 236,
   "metadata": {},
   "outputs": [],
   "source": [
    "audioSample1 = AudioSample(\"Samples/a_a.wav\")\n",
    "audioSample1.CalculatePitch(95.)\n",
    "audioSample1.CalculateSpectra()\n",
    "audioSample1.CalculateExcitation()\n",
    "\n",
    "audioSample2 = AudioSample(\"Samples/a_i.wav\")\n",
    "audioSample2.CalculatePitch(95.)\n",
    "audioSample2.CalculateSpectra()\n",
    "audioSample2.CalculateExcitation()\n",
    "\n",
    "audioSample3 = AudioSample(\"Samples/a_u.wav\")\n",
    "audioSample3.CalculatePitch(95.)\n",
    "audioSample3.CalculateSpectra()\n",
    "audioSample3.CalculateExcitation()\n",
    "\n",
    "audioSample4 = AudioSample(\"Samples/e_a.wav\")\n",
    "audioSample4.CalculatePitch(95.)\n",
    "audioSample4.CalculateSpectra()\n",
    "audioSample4.CalculateExcitation()\n",
    "\n",
    "audioSample5 = AudioSample(\"Samples/i_a.wav\")\n",
    "audioSample5.CalculatePitch(95.)\n",
    "audioSample5.CalculateSpectra()\n",
    "audioSample5.CalculateExcitation()\n",
    "\n",
    "audioSample6 = AudioSample(\"Samples/u_e.wav\")\n",
    "audioSample6.CalculatePitch(95.)\n",
    "audioSample6.CalculateSpectra()\n",
    "audioSample6.CalculateExcitation()"
   ]
  },
  {
   "cell_type": "code",
   "execution_count": 237,
   "metadata": {},
   "outputs": [],
   "source": [
    "synthesizer = Synthesizer(audioSample.excitation, audioSample.spectrum, audioSample.spectra, audioSample.sampleRate)\n",
    "synthesizer.Synthesize(audioSample.Pitch, 1.)\n",
    "synthesizer.save(\"Output_high_Steadiness.wav\")"
   ]
  },
  {
   "cell_type": "code",
   "execution_count": 238,
   "metadata": {},
   "outputs": [
    {
     "name": "stdout",
     "output_type": "stream",
     "text": [
      "epoch [1/100], loss:0.2273\n",
      "epoch [2/100], loss:0.1980\n",
      "epoch [3/100], loss:0.1461\n",
      "epoch [4/100], loss:0.1322\n",
      "epoch [5/100], loss:0.1083\n",
      "epoch [6/100], loss:0.1028\n",
      "epoch [7/100], loss:0.1067\n",
      "epoch [8/100], loss:0.0966\n",
      "epoch [9/100], loss:0.0972\n",
      "epoch [10/100], loss:0.0852\n",
      "epoch [11/100], loss:0.0831\n",
      "epoch [12/100], loss:0.0713\n",
      "epoch [13/100], loss:0.0819\n",
      "epoch [14/100], loss:0.0785\n",
      "epoch [15/100], loss:0.0784\n",
      "epoch [16/100], loss:0.0807\n",
      "epoch [17/100], loss:0.0734\n",
      "epoch [18/100], loss:0.0775\n",
      "epoch [19/100], loss:0.0720\n",
      "epoch [20/100], loss:0.0711\n",
      "epoch [21/100], loss:0.0734\n",
      "epoch [22/100], loss:0.0665\n",
      "epoch [23/100], loss:0.0693\n",
      "epoch [24/100], loss:0.0660\n",
      "epoch [25/100], loss:0.0683\n",
      "epoch [26/100], loss:0.0614\n",
      "epoch [27/100], loss:0.0678\n",
      "epoch [28/100], loss:0.0615\n",
      "epoch [29/100], loss:0.0678\n",
      "epoch [30/100], loss:0.0657\n",
      "epoch [31/100], loss:0.0674\n",
      "epoch [32/100], loss:0.0630\n",
      "epoch [33/100], loss:0.0636\n",
      "epoch [34/100], loss:0.0630\n",
      "epoch [35/100], loss:0.0639\n",
      "epoch [36/100], loss:0.0568\n",
      "epoch [37/100], loss:0.0626\n",
      "epoch [38/100], loss:0.0580\n",
      "epoch [39/100], loss:0.0635\n",
      "epoch [40/100], loss:0.0620\n",
      "epoch [41/100], loss:0.0635\n",
      "epoch [42/100], loss:0.0563\n",
      "epoch [43/100], loss:0.0631\n",
      "epoch [44/100], loss:0.0577\n",
      "epoch [45/100], loss:0.0588\n",
      "epoch [46/100], loss:0.0601\n",
      "epoch [47/100], loss:0.0532\n",
      "epoch [48/100], loss:0.0616\n",
      "epoch [49/100], loss:0.0608\n",
      "epoch [50/100], loss:0.0553\n",
      "epoch [51/100], loss:0.0618\n",
      "epoch [52/100], loss:0.0577\n",
      "epoch [53/100], loss:0.0579\n",
      "epoch [54/100], loss:0.0579\n",
      "epoch [55/100], loss:0.0584\n",
      "epoch [56/100], loss:0.0571\n",
      "epoch [57/100], loss:0.0614\n",
      "epoch [58/100], loss:0.0577\n",
      "epoch [59/100], loss:0.0569\n",
      "epoch [60/100], loss:0.0585\n",
      "epoch [61/100], loss:0.0599\n",
      "epoch [62/100], loss:0.0621\n",
      "epoch [63/100], loss:0.0566\n",
      "epoch [64/100], loss:0.0575\n",
      "epoch [65/100], loss:0.0637\n",
      "epoch [66/100], loss:0.0560\n",
      "epoch [67/100], loss:0.0551\n",
      "epoch [68/100], loss:0.0546\n",
      "epoch [69/100], loss:0.0552\n",
      "epoch [70/100], loss:0.0523\n",
      "epoch [71/100], loss:0.0536\n",
      "epoch [72/100], loss:0.0454\n",
      "epoch [73/100], loss:0.0547\n",
      "epoch [74/100], loss:0.0548\n",
      "epoch [75/100], loss:0.0506\n",
      "epoch [76/100], loss:0.0524\n",
      "epoch [77/100], loss:0.0530\n",
      "epoch [78/100], loss:0.0523\n",
      "epoch [79/100], loss:0.0525\n",
      "epoch [80/100], loss:0.0561\n",
      "epoch [81/100], loss:0.0551\n",
      "epoch [82/100], loss:0.0538\n",
      "epoch [83/100], loss:0.0509\n",
      "epoch [84/100], loss:0.0547\n",
      "epoch [85/100], loss:0.0539\n",
      "epoch [86/100], loss:0.0493\n",
      "epoch [87/100], loss:0.0547\n",
      "epoch [88/100], loss:0.0494\n",
      "epoch [89/100], loss:0.0541\n",
      "epoch [90/100], loss:0.0545\n",
      "epoch [91/100], loss:0.0638\n",
      "epoch [92/100], loss:0.0499\n",
      "epoch [93/100], loss:0.0437\n",
      "epoch [94/100], loss:0.0539\n",
      "epoch [95/100], loss:0.0520\n",
      "epoch [96/100], loss:0.0515\n",
      "epoch [97/100], loss:0.0533\n",
      "epoch [98/100], loss:0.0523\n",
      "epoch [99/100], loss:0.0516\n",
      "epoch [100/100], loss:0.0533\n"
     ]
    }
   ],
   "source": [
    "trainSpectra = torch.empty_like(audioSample.spectra)\n",
    "for i in range(audioSample.spectra.size()[0]):\n",
    "    trainSpectra[i] = audioSample.spectrum + audioSample.spectra[i]\n",
    "specCrfAi = SpecCrfAi(trainSpectra.size()[1])\n",
    "specCrfAi.train(trainSpectra, epochs = 100)"
   ]
  },
  {
   "cell_type": "code",
   "execution_count": 239,
   "metadata": {},
   "outputs": [],
   "source": [
    "output = specCrfAi.processData(trainSpectra[0], trainSpectra[-1], 0.5).detach()"
   ]
  },
  {
   "cell_type": "code",
   "execution_count": 240,
   "metadata": {},
   "outputs": [
    {
     "data": {
      "text/plain": [
       "[<matplotlib.lines.Line2D at 0x1fe0332b2e0>]"
      ]
     },
     "execution_count": 240,
     "metadata": {},
     "output_type": "execute_result"
    },
    {
     "data": {
      "image/png": "[encoded data removed]",
      "text/plain": [
       "<Figure size 432x288 with 1 Axes>"
      ]
     },
     "metadata": {
      "needs_background": "light"
     },
     "output_type": "display_data"
    }
   ],
   "source": [
    "plt.plot(torch.log(trainSpectra[10]))"
   ]
  },
  {
   "cell_type": "code",
   "execution_count": 241,
   "metadata": {
    "scrolled": true
   },
   "outputs": [
    {
     "data": {
      "text/plain": [
       "[<matplotlib.lines.Line2D at 0x1fe0337da30>]"
      ]
     },
     "execution_count": 241,
     "metadata": {},
     "output_type": "execute_result"
    },
    {
     "data": {
      "image/png": "[encoded data removed]",
      "text/plain": [
       "<Figure size 432x288 with 1 Axes>"
      ]
     },
     "metadata": {
      "needs_background": "light"
     },
     "output_type": "display_data"
    }
   ],
   "source": [
    "plt.plot(torch.log(output))"
   ]
  },
  {
   "cell_type": "code",
   "execution_count": 242,
   "metadata": {},
   "outputs": [
    {
     "data": {
      "text/plain": [
       "[<matplotlib.lines.Line2D at 0x1fe033da580>]"
      ]
     },
     "execution_count": 242,
     "metadata": {},
     "output_type": "execute_result"
    },
    {
     "data": {
      "image/png": "[encoded data removed]",
      "text/plain": [
       "<Figure size 432x288 with 1 Axes>"
      ]
     },
     "metadata": {
      "needs_background": "light"
     },
     "output_type": "display_data"
    }
   ],
   "source": [
    "plt.plot((trainSpectra[10] - output[0]) / trainSpectra[10])"
   ]
  },
  {
   "cell_type": "code",
   "execution_count": null,
   "metadata": {},
   "outputs": [],
   "source": []
  }
 ],
 "metadata": {
  "kernelspec": {
   "display_name": "Python 3",
   "language": "python",
   "name": "python3"
  },
  "language_info": {
   "codemirror_mode": {
    "name": "ipython",
    "version": 3
   },
   "file_extension": ".py",
   "mimetype": "text/x-python",
   "name": "python",
   "nbconvert_exporter": "python",
   "pygments_lexer": "ipython3",
   "version": "3.8.8"
  }
 },
 "nbformat": 4,
 "nbformat_minor": 4
}
