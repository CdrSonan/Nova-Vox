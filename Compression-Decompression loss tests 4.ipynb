{
 "cells": [
  {
   "cell_type": "code",
   "execution_count": 1,
   "metadata": {},
   "outputs": [
    {
     "name": "stderr",
     "output_type": "stream",
     "text": [
      "C:\\ProgramData\\Anaconda3\\lib\\site-packages\\torchaudio\\extension\\extension.py:13: UserWarning: torchaudio C++ extension is not available.\n",
      "  warnings.warn('torchaudio C++ extension is not available.')\n"
     ]
    }
   ],
   "source": [
    "import math\n",
    "import numpy\n",
    "import torch\n",
    "import torchaudio\n",
    "torchaudio.set_audio_backend(\"soundfile\")\n",
    "import matplotlib.pyplot as plt"
   ]
  },
  {
   "cell_type": "code",
   "execution_count": 56,
   "metadata": {},
   "outputs": [],
   "source": [
    "loadedData = torchaudio.load(\"Samples/a1.wav\")\n",
    "tensor = loadedData[0][0]\n",
    "sampleRate = loadedData[1]\n",
    "del loadedData"
   ]
  },
  {
   "cell_type": "code",
   "execution_count": 57,
   "metadata": {},
   "outputs": [],
   "source": [
    "expectedPitch = 95.\n",
    "searchRange = 0.2\n",
    "batchSize = math.floor((1. + searchRange) * sampleRate / expectedPitch)\n",
    "lowerSearchLimit = math.floor((1. - searchRange) * sampleRate / expectedPitch)"
   ]
  },
  {
   "cell_type": "code",
   "execution_count": 58,
   "metadata": {},
   "outputs": [],
   "source": [
    "batchStart = 0\n",
    "deltas = torch.tensor([], dtype = int)\n",
    "while batchStart + batchSize <= tensor.size()[0] - batchSize:\n",
    "    \n",
    "    sample = torch.index_select(tensor, 0, torch.linspace(batchStart, batchStart + batchSize, batchSize, dtype = int))\n",
    "    zeroTransitions = torch.tensor([], dtype = int)\n",
    "    for i in range(lowerSearchLimit, batchSize):\n",
    "        if (sample[i-1] < 0) and (sample[i] > 0):\n",
    "            zeroTransitions = torch.cat([zeroTransitions, torch.tensor([i])], 0)\n",
    "            \n",
    "    error = math.inf\n",
    "    delta = math.floor(sampleRate / expectedPitch)\n",
    "    for i in zeroTransitions:\n",
    "        shiftedSample = torch.index_select(tensor, 0, torch.linspace(batchStart + i.item(), batchStart + batchSize + i.item(), batchSize, dtype = int))\n",
    "        newError = torch.sum(torch.pow(sample - shiftedSample, 2))\n",
    "        if error > newError:\n",
    "            delta = i.item()\n",
    "            error = newError\n",
    "            \n",
    "    deltas = torch.cat([deltas, torch.tensor([delta])])\n",
    "    batchStart += delta"
   ]
  },
  {
   "cell_type": "code",
   "execution_count": 59,
   "metadata": {},
   "outputs": [],
   "source": [
    "nBatches = deltas.size()[0]\n",
    "borders = torch.zeros(nBatches + 1, dtype = int)\n",
    "for i in range(nBatches):\n",
    "    borders[i+1] = borders[i] + deltas[i]"
   ]
  },
  {
   "cell_type": "code",
   "execution_count": 76,
   "metadata": {},
   "outputs": [],
   "source": [
    "Spectrums = torch.zeros(nBatches-2, torch.min(deltas))\n",
    "Excitations = torch.zeros(nBatches-2, torch.min(deltas), dtype = torch.complex64)\n",
    "for i in range(2, nBatches-1):\n",
    "    lowerBorder = borders[i]\n",
    "    upperBorder = borders[i+1]\n",
    "    Window = torch.hann_window((upperBorder-lowerBorder) * 3)\n",
    "    sample = torch.index_select(tensor, 0, torch.linspace(2 * lowerBorder - upperBorder, 2 * upperBorder - lowerBorder, 3 * (upperBorder-lowerBorder)).int())\n",
    "    sample = Window * sample\n",
    "    sample = torch.pow(torch.fft.fft(sample, n = torch.min(deltas)).abs(), 2)\n",
    "    Spectrums[i-1] = sample\n",
    "    #implement pitch-adaptive spectral smoothing\n",
    "    batch = torch.index_select(tensor, 0, torch.linspace(lowerBorder, upperBorder, upperBorder-lowerBorder).int())\n",
    "AverageSpectrum = torch.mean(Spectrums, 0)\n",
    "for i in range(2, nBatches-1):\n",
    "    Spectrums[i-1] = Spectrums[i-1] - AverageSpectrum\n",
    "    Excitations[i-1] = torch.fft.fft(batch, n = torch.min(deltas)) / AverageSpectrum\n",
    "    AverageExcitation = torch.mean(Excitations, 0)\n",
    "    Excitations[i-1] = Excitations[i-1] - AverageExcitation"
   ]
  },
  {
   "cell_type": "code",
   "execution_count": 82,
   "metadata": {},
   "outputs": [],
   "source": [
    "finalCurve = AverageSpectrum * AverageExcitation\n",
    "torchaudio.save(\"output_Averaged.wav\", torch.unsqueeze(finalCurve.real, 0), sampleRate, format=\"wav\", encoding=\"PCM_S\", bits_per_sample=32)"
   ]
  },
  {
   "cell_type": "code",
   "execution_count": null,
   "metadata": {},
   "outputs": [],
   "source": []
  }
 ],
 "metadata": {
  "kernelspec": {
   "display_name": "Python 3",
   "language": "python",
   "name": "python3"
  },
  "language_info": {
   "codemirror_mode": {
    "name": "ipython",
    "version": 3
   },
   "file_extension": ".py",
   "mimetype": "text/x-python",
   "name": "python",
   "nbconvert_exporter": "python",
   "pygments_lexer": "ipython3",
   "version": "3.8.5"
  }
 },
 "nbformat": 4,
 "nbformat_minor": 4
}
