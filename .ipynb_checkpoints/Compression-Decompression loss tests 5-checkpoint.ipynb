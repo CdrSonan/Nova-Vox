{
 "cells": [
  {
   "cell_type": "code",
   "execution_count": 1,
   "metadata": {},
   "outputs": [
    {
     "name": "stderr",
     "output_type": "stream",
     "text": [
      "C:\\Users\\Jokla\\anaconda3\\lib\\site-packages\\torchaudio\\extension\\extension.py:13: UserWarning: torchaudio C++ extension is not available.\n",
      "  warnings.warn('torchaudio C++ extension is not available.')\n"
     ]
    }
   ],
   "source": [
    "import math\n",
    "import numpy\n",
    "import torch\n",
    "import torchaudio\n",
    "torchaudio.set_audio_backend(\"soundfile\")\n",
    "import matplotlib.pyplot as plt"
   ]
  },
  {
   "cell_type": "code",
   "execution_count": 2,
   "metadata": {},
   "outputs": [],
   "source": [
    "loadedData = torchaudio.load(\"Samples/a2.wav\")\n",
    "tensor = loadedData[0][0]\n",
    "sampleRate = loadedData[1]\n",
    "del loadedData"
   ]
  },
  {
   "cell_type": "code",
   "execution_count": 3,
   "metadata": {},
   "outputs": [],
   "source": [
    "expectedPitch = 95.\n",
    "searchRange = 0.2\n",
    "batchSize = math.floor((1. + searchRange) * sampleRate / expectedPitch)\n",
    "lowerSearchLimit = math.floor((1. - searchRange) * sampleRate / expectedPitch)"
   ]
  },
  {
   "cell_type": "code",
   "execution_count": 4,
   "metadata": {},
   "outputs": [],
   "source": [
    "batchStart = 0\n",
    "deltas = torch.tensor([], dtype = int)\n",
    "while batchStart + batchSize <= tensor.size()[0] - batchSize:\n",
    "    \n",
    "    sample = torch.index_select(tensor, 0, torch.linspace(batchStart, batchStart + batchSize, batchSize, dtype = int))\n",
    "    zeroTransitions = torch.tensor([], dtype = int)\n",
    "    for i in range(lowerSearchLimit, batchSize):\n",
    "        if (sample[i-1] < 0) and (sample[i] > 0):\n",
    "            zeroTransitions = torch.cat([zeroTransitions, torch.tensor([i])], 0)\n",
    "            \n",
    "    error = math.inf\n",
    "    delta = math.floor(sampleRate / expectedPitch)\n",
    "    for i in zeroTransitions:\n",
    "        shiftedSample = torch.index_select(tensor, 0, torch.linspace(batchStart + i.item(), batchStart + batchSize + i.item(), batchSize, dtype = int))\n",
    "        newError = torch.sum(torch.pow(sample - shiftedSample, 2))\n",
    "        if error > newError:\n",
    "            delta = i.item()\n",
    "            error = newError\n",
    "            \n",
    "    deltas = torch.cat([deltas, torch.tensor([delta])])\n",
    "    batchStart += delta\n",
    "nBatches = deltas.size()[0]\n",
    "borders = torch.zeros(nBatches + 1, dtype = int)\n",
    "for i in range(nBatches):\n",
    "    borders[i+1] = borders[i] + deltas[i]\n",
    "avgDelta = torch.mean(deltas.float()).int()"
   ]
  },
  {
   "cell_type": "code",
   "execution_count": 93,
   "metadata": {},
   "outputs": [],
   "source": [
    "Window = torch.hann_window(avgDelta * 3)\n",
    "Signals = torch.stft(tensor, 3 * avgDelta, hop_length = avgDelta, win_length = 3 * avgDelta, window = Window, return_complex = True)\n",
    "Signals = torch.transpose(Signals, 0, 1)\n",
    "\"\"\"\n",
    "Spectrums = Signals.abs()\n",
    "#implement better envelope calculation method\n",
    "Spectrums = torch.roll(Spectrums, -2, dims = 1) + torch.roll(Spectrums, -1, dims = 1) + Spectrums + torch.roll(Spectrums, 1, dims = 1) + torch.roll(Spectrums, 2, dims = 1)\n",
    "Spectrums = Spectrums / 5.\n",
    "Spectrum = torch.mean(Spectrums, 0)\n",
    "\"\"\"\n",
    "Waveform = Signals.abs()\n",
    "Spectrums = torch.full_like(Waveform, -float(\"inf\"), dtype=torch.float)\n",
    "for i in range(100):\n",
    "    Waveform = torch.max(Waveform, Spectrums)\n",
    "    \n",
    "    #Spectrums = torch.fft.ifft(Waveform).abs()\n",
    "    #Spectrums = torchaudio.functional.lowpass_biquad(Spectrums, sampleRate, sampleRate/avgDelta)\n",
    "    #Spectrums = torch.fft.fft(Spectrums).real\n",
    "    \n",
    "    Spectrums = Waveform\n",
    "    for i in range(30):\n",
    "        Spectrums = torch.roll(Waveform, -i, dims = 1) + Spectrums + torch.roll(Waveform, i, dims = 1)\n",
    "    Spectrums = Spectrums / 101.\n",
    "    \n",
    "    #Spectrums = torch.roll(Waveform, -2, dims = 1) + torch.roll(Waveform, -1, dims = 1) + Waveform + torch.roll(Waveform, 1, dims = 1) + torch.roll(Waveform, 2, dims = 1)\n",
    "    #Spectrums = Spectrums / 5.\n",
    "\n",
    "Spectrum = torch.mean(Spectrums, 0)\n",
    "Excitations = torch.empty_like(Signals)\n",
    "for i in range(Spectrums.size()[0]):\n",
    "    Excitations[i] = Signals[i] / Spectrums[i]\n",
    "    Spectrums[i] = Spectrums[i] - Spectrum\n",
    "Excitations = torch.transpose(Excitations, 0, 1)\n",
    "Excitation = torch.istft(Excitations, 3 * avgDelta, hop_length = avgDelta, win_length = 3 * avgDelta, window = Window, onesided=True, )"
   ]
  },
  {
   "cell_type": "code",
   "execution_count": 94,
   "metadata": {},
   "outputs": [],
   "source": [
    "ReturnSignal = torch.stft(Excitation, 3 * avgDelta, hop_length = avgDelta, win_length = 3 * avgDelta, window = Window, return_complex = True)\n",
    "ReturnSignal = torch.transpose(ReturnSignal, 0, 1)\n",
    "for i in range(Spectrums.size()[0]):\n",
    "    ReturnSignal[i] = ReturnSignal[i] * (Spectrum + 5 * torch.roll(Spectrums, 0, dims=0)[i])\n",
    "ReturnSignal = torch.transpose(ReturnSignal, 0, 1)\n",
    "ReturnSignal = torch.istft(ReturnSignal, 3 * avgDelta, hop_length = avgDelta, win_length = 3 * avgDelta, window = Window, onesided=True, )"
   ]
  },
  {
   "cell_type": "code",
   "execution_count": 95,
   "metadata": {},
   "outputs": [],
   "source": [
    "torchaudio.save(\"output_Averaged.wav\", torch.unsqueeze(ReturnSignal, 0), sampleRate, format=\"wav\", encoding=\"PCM_S\", bits_per_sample=32)"
   ]
  },
  {
   "cell_type": "code",
   "execution_count": 96,
   "metadata": {},
   "outputs": [
    {
     "data": {
      "text/plain": [
       "[<matplotlib.lines.Line2D at 0x25b09afafd0>]"
      ]
     },
     "execution_count": 96,
     "metadata": {},
     "output_type": "execute_result"
    },
    {
     "data": {
      "image/png": "[encoded data removed]",
      "text/plain": [
       "<Figure size 432x288 with 1 Axes>"
      ]
     },
     "metadata": {
      "needs_background": "light"
     },
     "output_type": "display_data"
    }
   ],
   "source": [
    "plt.plot(torch.log(Spectrum))"
   ]
  },
  {
   "cell_type": "code",
   "execution_count": null,
   "metadata": {},
   "outputs": [],
   "source": []
  }
 ],
 "metadata": {
  "kernelspec": {
   "display_name": "Python 3",
   "language": "python",
   "name": "python3"
  },
  "language_info": {
   "codemirror_mode": {
    "name": "ipython",
    "version": 3
   },
   "file_extension": ".py",
   "mimetype": "text/x-python",
   "name": "python",
   "nbconvert_exporter": "python",
   "pygments_lexer": "ipython3",
   "version": "3.8.8"
  }
 },
 "nbformat": 4,
 "nbformat_minor": 4
}
