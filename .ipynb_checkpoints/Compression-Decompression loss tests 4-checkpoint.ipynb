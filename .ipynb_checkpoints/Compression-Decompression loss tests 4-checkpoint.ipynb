{
 "cells": [
  {
   "cell_type": "code",
   "execution_count": 2,
   "metadata": {},
   "outputs": [
    {
     "name": "stderr",
     "output_type": "stream",
     "text": [
      "C:\\ProgramData\\Anaconda3\\lib\\site-packages\\torchaudio\\extension\\extension.py:13: UserWarning: torchaudio C++ extension is not available.\n",
      "  warnings.warn('torchaudio C++ extension is not available.')\n"
     ]
    }
   ],
   "source": [
    "import math\n",
    "import numpy\n",
    "import torch\n",
    "import torchaudio\n",
    "torchaudio.set_audio_backend(\"soundfile\")\n",
    "import matplotlib.pyplot as plt"
   ]
  },
  {
   "cell_type": "code",
   "execution_count": 3,
   "metadata": {},
   "outputs": [],
   "source": [
    "loadedData = torchaudio.load(\"a_a_i_a_u_e_a.wav\")\n",
    "tensor = loadedData[0][0]\n",
    "sampleRate = loadedData[1]\n",
    "del loadedData"
   ]
  },
  {
   "cell_type": "code",
   "execution_count": 4,
   "metadata": {},
   "outputs": [
    {
     "data": {
      "text/plain": [
       "'\\ntransformedTensor = torch.stft(tensor, 8129, hop_length = 8129, win_length = 8129, return_complex = True)\\nbackTransformedTensor = torch.istft(transformedTensor, 8129, hop_length = 8129, win_length = 8129, length = 1036800)\\ntorchaudio.save(\"output.wav\", backTransformedTensor, sampleRate, format=\"wav\", encoding=\"PCM_S\", bits_per_sample=32)\\ndifference = backTransformedTensor - tensor\\nerror = difference/tensor\\nerror = error * torch.isfinite(error)\\nerror = torch.nan_to_num(error)\\nAmplitudes = transformedTensor.abs()\\nPhases = transformedTensor.angle()\\nElement = Amplitudes[0].transpose(0,1)[40]\\nmaximum = torch.max(Element, 0)\\nheight = maximum.values.item()\\ncenter = maximum.indices.item()\\n'"
      ]
     },
     "execution_count": 4,
     "metadata": {},
     "output_type": "execute_result"
    }
   ],
   "source": [
    "\"\"\"\n",
    "transformedTensor = torch.stft(tensor, 8129, hop_length = 8129, win_length = 8129, return_complex = True)\n",
    "backTransformedTensor = torch.istft(transformedTensor, 8129, hop_length = 8129, win_length = 8129, length = 1036800)\n",
    "torchaudio.save(\"output.wav\", backTransformedTensor, sampleRate, format=\"wav\", encoding=\"PCM_S\", bits_per_sample=32)\n",
    "difference = backTransformedTensor - tensor\n",
    "error = difference/tensor\n",
    "error = error * torch.isfinite(error)\n",
    "error = torch.nan_to_num(error)\n",
    "Amplitudes = transformedTensor.abs()\n",
    "Phases = transformedTensor.angle()\n",
    "Element = Amplitudes[0].transpose(0,1)[40]\n",
    "maximum = torch.max(Element, 0)\n",
    "height = maximum.values.item()\n",
    "center = maximum.indices.item()\n",
    "\"\"\""
   ]
  },
  {
   "cell_type": "code",
   "execution_count": 21,
   "metadata": {},
   "outputs": [],
   "source": [
    "pitchTensor = torchaudio.functional.detect_pitch_frequency(tensor, sampleRate, frame_time = 0.01, win_length = 3, freq_low = 85, freq_high = 1000)"
   ]
  },
  {
   "cell_type": "code",
   "execution_count": 22,
   "metadata": {
    "scrolled": true
   },
   "outputs": [
    {
     "data": {
      "text/plain": [
       "[<matplotlib.lines.Line2D at 0x1b55c7d33d0>]"
      ]
     },
     "execution_count": 22,
     "metadata": {},
     "output_type": "execute_result"
    },
    {
     "data": {
      "image/png": "[encoded data removed]",
      "text/plain": [
       "<Figure size 432x288 with 1 Axes>"
      ]
     },
     "metadata": {
      "needs_background": "light"
     },
     "output_type": "display_data"
    }
   ],
   "source": [
    "plt.plot(pitchTensor)"
   ]
  },
  {
   "cell_type": "code",
   "execution_count": 26,
   "metadata": {},
   "outputs": [],
   "source": [
    "expectedPitch = 95.\n",
    "searchRange = 0.2\n",
    "batchSize = math.floor((1. + searchRange) * sampleRate / expectedPitch)\n",
    "lowerSearchLimit = math.floor((1. - searchRange) * sampleRate / expectedPitch)"
   ]
  },
  {
   "cell_type": "code",
   "execution_count": 27,
   "metadata": {},
   "outputs": [],
   "source": [
    "batchStart = 0\n",
    "deltas = torch.tensor([], dtype = int)\n",
    "while batchStart + batchSize <= tensor.size()[0]:\n",
    "    \n",
    "    sample = torch.index_select(tensor, 0, torch.linspace(batchStart, batchStart + batchSize, batchSize, dtype = int))\n",
    "    zeroTransitions = torch.tensor([], dtype = int)\n",
    "    for i in range(lowerSearchLimit, batchSize):\n",
    "        if (sample[i-1] < 0) and (sample[i] > 0):\n",
    "            zeroTransitions = torch.cat([zeroTransitions, torch.tensor([i])], 0)\n",
    "            \n",
    "    error = math.inf\n",
    "    delta = math.floor(sampleRate / expectedPitch)\n",
    "    for i in zeroTransitions:\n",
    "        shiftedSample = torch.index_select(tensor, 0, torch.linspace(batchStart + i.item(), batchStart + batchSize + i.item(), batchSize, dtype = int))\n",
    "        newError = torch.sum(torch.pow(sample - shiftedSample, 2))\n",
    "        if error > newError:\n",
    "            delta = i.item()\n",
    "            error = newError\n",
    "            \n",
    "    deltas = torch.cat([deltas, torch.tensor([delta])])\n",
    "    batchStart += delta"
   ]
  },
  {
   "cell_type": "code",
   "execution_count": 39,
   "metadata": {},
   "outputs": [],
   "source": [
    "nBatches = deltas.size()[0]\n",
    "borders = torch.zeros(nBatches + 1, dtype = int)\n",
    "for i in range(nBatches):\n",
    "    borders[i+1] = borders[i] + deltas[i]"
   ]
  },
  {
   "cell_type": "code",
   "execution_count": 68,
   "metadata": {},
   "outputs": [],
   "source": [
    "Spectrums = torch.zeros(nBatches, torch.max(deltas))\n",
    "for i in range(nBatches):\n",
    "    lowerBorder = borders[i]\n",
    "    upperBorder = borders[i+1]\n",
    "    Window = torch.hann_window(upperBorder-lowerBorder)\n",
    "    sample = torch.index_select(tensor, 0, torch.linspace(lowerBorder, upperBorder, upperBorder-lowerBorder).int())\n",
    "    sample = Window * sample\n",
    "    sample = torch.pow(torch.fft.fft(sample, n = torch.max(deltas)).abs(), 2)\n",
    "    #implement rectangular windowing\n",
    "    Spectrums[i] = sample"
   ]
  },
  {
   "cell_type": "code",
   "execution_count": null,
   "metadata": {},
   "outputs": [],
   "source": []
  }
 ],
 "metadata": {
  "kernelspec": {
   "display_name": "Python 3",
   "language": "python",
   "name": "python3"
  },
  "language_info": {
   "codemirror_mode": {
    "name": "ipython",
    "version": 3
   },
   "file_extension": ".py",
   "mimetype": "text/x-python",
   "name": "python",
   "nbconvert_exporter": "python",
   "pygments_lexer": "ipython3",
   "version": "3.8.5"
  }
 },
 "nbformat": 4,
 "nbformat_minor": 4
}
