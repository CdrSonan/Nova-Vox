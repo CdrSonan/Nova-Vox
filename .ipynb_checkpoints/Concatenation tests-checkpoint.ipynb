{
 "cells": [
  {
   "cell_type": "code",
   "execution_count": 1,
   "metadata": {},
   "outputs": [
    {
     "name": "stderr",
     "output_type": "stream",
     "text": [
      "C:\\Users\\Jokla\\anaconda3\\lib\\site-packages\\torchaudio\\extension\\extension.py:13: UserWarning: torchaudio C++ extension is not available.\n",
      "  warnings.warn('torchaudio C++ extension is not available.')\n"
     ]
    }
   ],
   "source": [
    "import math\n",
    "import numpy\n",
    "import torch\n",
    "import torch.nn as nn\n",
    "import torchaudio\n",
    "torchaudio.set_audio_backend(\"soundfile\")\n",
    "import matplotlib.pyplot as plt"
   ]
  },
  {
   "cell_type": "code",
   "execution_count": 2,
   "metadata": {},
   "outputs": [],
   "source": [
    "class AudioSample:\n",
    "    def __init__(self, filepath):\n",
    "        loadedData = torchaudio.load(filepath)\n",
    "        self.waveform = loadedData[0][0]\n",
    "        self.sampleRate = loadedData[1]\n",
    "        del loadedData\n",
    "        self.pitchDeltas = torch.tensor([], dtype = int)\n",
    "        self.pitchBorders = torch.tensor([], dtype = int)\n",
    "        self.Pitch = torch.tensor([0], dtype = int)\n",
    "        self.spectra = torch.tensor([[]], dtype = float)\n",
    "        self.spectrum = torch.tensor([], dtype = float)\n",
    "        self.excitation = torch.tensor([], dtype = float) #replace with periodic and aperiodic excitation once implemented\n",
    "    def CalculatePitch(self, expectedPitch, searchRange = 0.2):\n",
    "        batchSize = math.floor((1. + searchRange) * self.sampleRate / expectedPitch)\n",
    "        lowerSearchLimit = math.floor((1. - searchRange) * self.sampleRate / expectedPitch)\n",
    "        batchStart = 0\n",
    "        while batchStart + batchSize <= self.waveform.size()[0] - batchSize:\n",
    "            sample = torch.index_select(self.waveform, 0, torch.linspace(batchStart, batchStart + batchSize, batchSize, dtype = int))\n",
    "            zeroTransitions = torch.tensor([], dtype = int)\n",
    "            for i in range(lowerSearchLimit, batchSize):\n",
    "                if (sample[i-1] < 0) and (sample[i] > 0):\n",
    "                    zeroTransitions = torch.cat([zeroTransitions, torch.tensor([i])], 0)\n",
    "            error = math.inf\n",
    "            delta = math.floor(self.sampleRate / expectedPitch)\n",
    "            for i in zeroTransitions:\n",
    "                shiftedSample = torch.index_select(self.waveform, 0, torch.linspace(batchStart + i.item(), batchStart + batchSize + i.item(), batchSize, dtype = int))\n",
    "                newError = torch.sum(torch.pow(sample - shiftedSample, 2))\n",
    "                if error > newError:\n",
    "                    delta = i.item()\n",
    "                    error = newError\n",
    "            self.pitchDeltas = torch.cat([self.pitchDeltas, torch.tensor([delta])])\n",
    "            batchStart += delta\n",
    "        nBatches = self.pitchDeltas.size()[0]\n",
    "        self.pitchBorders = torch.zeros(nBatches + 1, dtype = int)\n",
    "        for i in range(nBatches):\n",
    "            self.pitchBorders[i+1] = self.pitchBorders[i] + self.pitchDeltas[i]\n",
    "        self.Pitch = torch.mean(self.pitchDeltas.float()).int()\n",
    "        del batchSize\n",
    "        del lowerSearchLimit\n",
    "        del batchStart\n",
    "        del sample\n",
    "        del zeroTransitions\n",
    "        del error\n",
    "        del delta\n",
    "        del shiftedSample\n",
    "        del newError\n",
    "        del nBatches\n",
    "    def CalculateSpectra(self, iterations = 10, filterWidth = 20):\n",
    "        Window = torch.hann_window(self.Pitch * 3)\n",
    "        signals = torch.stft(self.waveform, 3 * self.Pitch, hop_length = self.Pitch, win_length = 3 * self.Pitch, window = Window, return_complex = True)\n",
    "        signals = torch.transpose(signals, 0, 1)\n",
    "        workingSpectra = signals.abs()\n",
    "        self.spectra = torch.full_like(workingSpectra, -float(\"inf\"), dtype=torch.float)\n",
    "        for i in range(iterations):\n",
    "            workingSpectra = torch.max(workingSpectra, self.spectra)\n",
    "            self.spectra = workingSpectra\n",
    "            for i in range(filterWidth):\n",
    "                self.spectra = torch.roll(workingSpectra, -i, dims = 1) + self.spectra + torch.roll(workingSpectra, i, dims = 1)\n",
    "            self.spectra = self.spectra / (2 * filterWidth + 1)\n",
    "        self.spectrum = torch.mean(self.spectra, 0)\n",
    "        for i in range(self.spectra.size()[0]):\n",
    "            self.spectra[i] = self.spectra[i] - self.spectrum\n",
    "        del Window\n",
    "        del signals\n",
    "        del workingSpectra\n",
    "    def CalculateExcitation(self):\n",
    "        Window = torch.hann_window(self.Pitch * 3)\n",
    "        signals = torch.stft(self.waveform, 3 * self.Pitch, hop_length = self.Pitch, win_length = 3 * self.Pitch, window = Window, return_complex = True)\n",
    "        signals = torch.transpose(signals, 0, 1)\n",
    "        excitations = torch.empty_like(signals)\n",
    "        for i in range(excitations.size()[0]):\n",
    "            excitations[i] = signals[i] / (self.spectrum + self.spectra[i])\n",
    "        excitations = torch.transpose(excitations, 0, 1)\n",
    "        self.excitation = torch.istft(excitations, 3 * self.Pitch, hop_length = self.Pitch, win_length = 3 * self.Pitch, window = Window, onesided = True)\n",
    "        del Window\n",
    "        del signals\n",
    "        del excitations"
   ]
  },
  {
   "cell_type": "code",
   "execution_count": 3,
   "metadata": {},
   "outputs": [],
   "source": [
    "class Synthesizer:\n",
    "    def __init__(self, Excitation, Spectrum, Spectra, SampleRate):\n",
    "        self.excitation = Excitation\n",
    "        self.spectrum = Spectrum\n",
    "        self.spectra = Spectra\n",
    "        self.sampleRate = SampleRate\n",
    "        self.returnSignal = torch.tensor([], dtype = float)\n",
    "    def Synthesize(self, pitch, steadiness):\n",
    "        Window = torch.hann_window(pitch * 3)\n",
    "        self.returnSignal = torch.stft(self.excitation, 3 * pitch, hop_length = pitch, win_length = 3 * pitch, window = Window, return_complex = True)\n",
    "        self.returnSignal = torch.transpose(self.returnSignal, 0, 1)\n",
    "        for i in range(self.spectra.size()[0]):\n",
    "            self.returnSignal[i] = self.returnSignal[i] * (self.spectrum + math.pow(1 - steadiness, 2) * torch.roll(self.spectra, 0, dims=0)[i])\n",
    "        self.returnSignal = torch.transpose(self.returnSignal, 0, 1)\n",
    "        self.returnSignal = torch.istft(self.returnSignal, 3 * pitch, hop_length = pitch, win_length = 3 * pitch, window = Window, onesided=True, )\n",
    "        del Window\n",
    "    def save(self, filepath):\n",
    "        torchaudio.save(filepath, torch.unsqueeze(self.returnSignal, 0), self.sampleRate, format=\"wav\", encoding=\"PCM_S\", bits_per_sample=32)"
   ]
  },
  {
   "cell_type": "code",
   "execution_count": 4,
   "metadata": {},
   "outputs": [],
   "source": [
    "class SpecCrfAi(nn.Module):\n",
    "    def __init__(self, inputsize, learningRate=1e-3):\n",
    "        super(SpecCrfAi, self).__init__()\n",
    "        \n",
    "        self.size1 = int(inputsize * 2 + 1)\n",
    "        self.size2 = int(inputsize * 1.75 + 0.75)\n",
    "        self.size3 = int(inputsize * 1.5 + 0.5)\n",
    "        self.size4 = int(inputsize * 1.25 + 0.25)\n",
    "        self.size5 = int(inputsize)\n",
    "        \n",
    "        self.NeuralNet = nn.Sequential(nn.Linear(self.size1, self.size2),\n",
    "                                     nn.ReLU(True),\n",
    "                                     nn.Linear(self.size2, self.size3),\n",
    "                                     nn.ReLU(True),\n",
    "                                     nn.Linear(self.size3, self.size4),\n",
    "                                     nn.ReLU(True),\n",
    "                                     nn.Linear(self.size4, self.size5))\n",
    "\n",
    "        self.learningRate = learningRate\n",
    "\n",
    "        self.optimizer = torch.optim.Adam(self.parameters(), lr=self.learningRate, weight_decay=1e-5)\n",
    "        self.criterion = nn.MSELoss()\n",
    "        \n",
    "    def forward(self, spectrum1, spectrum2, factor):\n",
    "        x = torch.cat((spectrum1, spectrum2, torch.tensor([factor])), dim = 0)\n",
    "        x = x.float()\n",
    "        x = self.NeuralNet(x)\n",
    "        return x\n",
    "    \n",
    "    def processData(self, spectrum1, spectrum2, factors):\n",
    "        spectrum1 = torch.log(spectrum1)\n",
    "        spectrum2 = torch.log(spectrum2)\n",
    "        output = torch.tensor([[]], dtype = float)\n",
    "        for i in factors:\n",
    "            result = torch.unsqueeze(self(spectrum1, spectrum2, i), dim = 0)\n",
    "            output = torch.cat((output, result), dim = 1)\n",
    "        output = torch.exp(output)\n",
    "        return output\n",
    "    \n",
    "    def train(self, indata, epochs=1):\n",
    "        for epoch in range(epochs):\n",
    "            for data in self.dataLoader(indata):\n",
    "                spectrum1 = data[0]\n",
    "                spectrum2 = data[-1]\n",
    "                spectrum1 = torch.log(spectrum1)\n",
    "                spectrum2 = torch.log(spectrum2)\n",
    "                indexList = numpy.arange(0, data.size()[0], 1)\n",
    "                numpy.random.shuffle(indexList)\n",
    "                for i in indexList:\n",
    "                    factor = i / float(data.size()[0])\n",
    "                    spectrumTarget = data[i]\n",
    "                    spectrumTarget = torch.log(spectrumTarget)\n",
    "                    output = self(spectrum1, spectrum2, factor)\n",
    "                    loss = self.criterion(output, spectrumTarget)\n",
    "                    self.optimizer.zero_grad()\n",
    "                    loss.backward()\n",
    "                    self.optimizer.step()\n",
    "\n",
    "            print('epoch [{}/{}], loss:{:.4f}'\n",
    "                  .format(epoch + 1, epochs, loss.data))\n",
    "            \n",
    "    def dataLoader(self, data):\n",
    "        return torch.utils.data.DataLoader(dataset=data, shuffle=True)"
   ]
  },
  {
   "cell_type": "code",
   "execution_count": 5,
   "metadata": {},
   "outputs": [],
   "source": [
    "audioSample = AudioSample(\"Samples/a_i.wav\")\n",
    "audioSample.CalculatePitch(95.)\n",
    "audioSample.CalculateSpectra()\n",
    "audioSample.CalculateExcitation()"
   ]
  },
  {
   "cell_type": "code",
   "execution_count": 6,
   "metadata": {},
   "outputs": [],
   "source": [
    "synthesizer = Synthesizer(audioSample.excitation, audioSample.spectrum, audioSample.spectra, audioSample.sampleRate)\n",
    "synthesizer.Synthesize(audioSample.Pitch, 1.)\n",
    "synthesizer.save(\"Output_high_Steadiness.wav\")"
   ]
  },
  {
   "cell_type": "code",
   "execution_count": 7,
   "metadata": {},
   "outputs": [
    {
     "name": "stdout",
     "output_type": "stream",
     "text": [
      "epoch [1/10], loss:5.1008\n",
      "epoch [2/10], loss:0.1183\n",
      "epoch [3/10], loss:0.0603\n",
      "epoch [4/10], loss:0.1178\n",
      "epoch [5/10], loss:0.2718\n",
      "epoch [6/10], loss:0.0853\n",
      "epoch [7/10], loss:0.0674\n",
      "epoch [8/10], loss:0.0865\n",
      "epoch [9/10], loss:0.0496\n",
      "epoch [10/10], loss:0.0321\n"
     ]
    }
   ],
   "source": [
    "trainSpectra = torch.empty_like(audioSample.spectra)\n",
    "for i in range(audioSample.spectra.size()[0]):\n",
    "    trainSpectra[i] = audioSample.spectrum + audioSample.spectra[i]\n",
    "specCrfAi = SpecCrfAi(trainSpectra.size()[1])\n",
    "specCrfAi.train(trainSpectra, epochs = 10)"
   ]
  },
  {
   "cell_type": "code",
   "execution_count": 8,
   "metadata": {},
   "outputs": [],
   "source": [
    "output = specCrfAi.processData(trainSpectra[0], trainSpectra[-1], [0.5]).detach()"
   ]
  },
  {
   "cell_type": "code",
   "execution_count": 13,
   "metadata": {},
   "outputs": [
    {
     "data": {
      "text/plain": [
       "[<matplotlib.lines.Line2D at 0x283c6cd26a0>]"
      ]
     },
     "execution_count": 13,
     "metadata": {},
     "output_type": "execute_result"
    },
    {
     "data": {
      "image/png": "[encoded data removed]",
      "text/plain": [
       "<Figure size 432x288 with 1 Axes>"
      ]
     },
     "metadata": {
      "needs_background": "light"
     },
     "output_type": "display_data"
    }
   ],
   "source": [
    "plt.plot(torch.log(trainSpectra[10]))"
   ]
  },
  {
   "cell_type": "code",
   "execution_count": 10,
   "metadata": {
    "scrolled": true
   },
   "outputs": [
    {
     "data": {
      "text/plain": [
       "[<matplotlib.lines.Line2D at 0x283c5cbaeb0>]"
      ]
     },
     "execution_count": 10,
     "metadata": {},
     "output_type": "execute_result"
    },
    {
     "data": {
      "image/png": "[encoded data removed]",
      "text/plain": [
       "<Figure size 432x288 with 1 Axes>"
      ]
     },
     "metadata": {
      "needs_background": "light"
     },
     "output_type": "display_data"
    }
   ],
   "source": [
    "plt.plot(torch.log(output[0]))"
   ]
  },
  {
   "cell_type": "code",
   "execution_count": 18,
   "metadata": {},
   "outputs": [
    {
     "data": {
      "text/plain": [
       "[<matplotlib.lines.Line2D at 0x283c6ea1040>]"
      ]
     },
     "execution_count": 18,
     "metadata": {},
     "output_type": "execute_result"
    },
    {
     "data": {
      "image/png": "[encoded data removed]",
      "text/plain": [
       "<Figure size 432x288 with 1 Axes>"
      ]
     },
     "metadata": {
      "needs_background": "light"
     },
     "output_type": "display_data"
    }
   ],
   "source": [
    "plt.plot((trainSpectra[10] - output[0]) / trainSpectra[10])"
   ]
  },
  {
   "cell_type": "code",
   "execution_count": null,
   "metadata": {},
   "outputs": [],
   "source": []
  }
 ],
 "metadata": {
  "kernelspec": {
   "display_name": "Python 3",
   "language": "python",
   "name": "python3"
  },
  "language_info": {
   "codemirror_mode": {
    "name": "ipython",
    "version": 3
   },
   "file_extension": ".py",
   "mimetype": "text/x-python",
   "name": "python",
   "nbconvert_exporter": "python",
   "pygments_lexer": "ipython3",
   "version": "3.8.8"
  }
 },
 "nbformat": 4,
 "nbformat_minor": 4
}
