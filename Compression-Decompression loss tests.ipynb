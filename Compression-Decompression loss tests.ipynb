{
 "cells": [
  {
   "cell_type": "code",
   "execution_count": 16,
   "metadata": {},
   "outputs": [],
   "source": [
    "import numpy\n",
    "import torch\n",
    "import torchaudio\n",
    "torchaudio.set_audio_backend(\"soundfile\")\n",
    "import matplotlib.pyplot as plt"
   ]
  },
  {
   "cell_type": "code",
   "execution_count": 17,
   "metadata": {},
   "outputs": [],
   "source": [
    "loadedData = torchaudio.load(\"a_a_i_a_u_e_a.wav\")"
   ]
  },
  {
   "cell_type": "code",
   "execution_count": 18,
   "metadata": {},
   "outputs": [],
   "source": [
    "tensor = loadedData[0]\n",
    "sampleRate = loadedData[1]\n",
    "del loadedData"
   ]
  },
  {
   "cell_type": "code",
   "execution_count": 19,
   "metadata": {},
   "outputs": [
    {
     "name": "stdout",
     "output_type": "stream",
     "text": [
      "torch.Size([1, 1036800])\n",
      "192000\n"
     ]
    }
   ],
   "source": [
    "print(tensor.size())\n",
    "print(sampleRate)"
   ]
  },
  {
   "cell_type": "code",
   "execution_count": 43,
   "metadata": {},
   "outputs": [],
   "source": [
    "transformedTensor = torch.stft(tensor, 1000, return_complex = True)"
   ]
  },
  {
   "cell_type": "code",
   "execution_count": 44,
   "metadata": {},
   "outputs": [
    {
     "data": {
      "text/plain": [
       "torch.Size([1, 501, 4148])"
      ]
     },
     "execution_count": 44,
     "metadata": {},
     "output_type": "execute_result"
    }
   ],
   "source": [
    "transformedTensor.size()"
   ]
  },
  {
   "cell_type": "code",
   "execution_count": 45,
   "metadata": {
    "scrolled": false
   },
   "outputs": [
    {
     "data": {
      "text/plain": [
       "tensor([[[-1.5065e+01+0.0000e+00j, -1.5261e+01+0.0000e+00j,\n",
       "          -1.5563e+01+0.0000e+00j,  ...,\n",
       "           1.3581e+01+0.0000e+00j,  1.2510e+01+0.0000e+00j,\n",
       "           1.1862e+01+0.0000e+00j],\n",
       "         [-2.8609e-01+0.0000e+00j, -1.7269e-01-3.7549e-01j,\n",
       "           8.7646e-02-2.7549e-01j,  ...,\n",
       "          -1.4782e-01-9.6168e-01j,  3.1258e-01-8.5991e-01j,\n",
       "           4.8643e-01-1.4752e-01j],\n",
       "         [-1.9677e-02-1.8626e-09j, -8.5667e-02-1.5487e-01j,\n",
       "          -1.2937e-01-4.9660e-02j,  ...,\n",
       "           7.1395e-02-2.9699e-01j, -1.7269e-04-3.7745e-01j,\n",
       "           1.0228e-01-5.6163e-02j],\n",
       "         ...,\n",
       "         [ 2.4066e-03-9.3132e-10j, -4.2107e-03-5.8827e-03j,\n",
       "           4.2072e-03+5.2205e-03j,  ...,\n",
       "           1.0162e-02-1.0507e-04j, -7.1520e-03-2.5644e-03j,\n",
       "           9.3265e-03+5.6175e-03j],\n",
       "         [-8.3872e-03-1.4901e-08j,  2.6709e-03+3.8805e-03j,\n",
       "           5.4787e-03-4.0179e-03j,  ...,\n",
       "          -2.6775e-03+2.4688e-04j,  4.2929e-03+1.9416e-03j,\n",
       "           3.2261e-04-3.3541e-04j],\n",
       "         [-9.2564e-03+0.0000e+00j, -4.5576e-03+0.0000e+00j,\n",
       "          -1.8916e-03+0.0000e+00j,  ...,\n",
       "          -3.5172e-03+0.0000e+00j,  1.1873e-04+0.0000e+00j,\n",
       "          -4.1790e-03+0.0000e+00j]]])"
      ]
     },
     "execution_count": 45,
     "metadata": {},
     "output_type": "execute_result"
    }
   ],
   "source": [
    "transformedTensor"
   ]
  },
  {
   "cell_type": "code",
   "execution_count": null,
   "metadata": {},
   "outputs": [],
   "source": []
  }
 ],
 "metadata": {
  "kernelspec": {
   "display_name": "Python 3",
   "language": "python",
   "name": "python3"
  },
  "language_info": {
   "codemirror_mode": {
    "name": "ipython",
    "version": 3
   },
   "file_extension": ".py",
   "mimetype": "text/x-python",
   "name": "python",
   "nbconvert_exporter": "python",
   "pygments_lexer": "ipython3",
   "version": "3.8.5"
  }
 },
 "nbformat": 4,
 "nbformat_minor": 4
}
